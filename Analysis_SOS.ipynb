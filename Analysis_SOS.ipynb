{
 "cells": [
  {
   "cell_type": "code",
   "execution_count": 1,
   "id": "57560a32",
   "metadata": {},
   "outputs": [],
   "source": [
    "from scattering_2D import get_reflexes, plot_result_gixd, export_results_csv\n",
    "from ase import Atoms, Atom\n",
    "from ase.io import read\n",
    "import numpy as np\n",
    "import itertools"
   ]
  },
  {
   "cell_type": "code",
   "execution_count": 2,
   "id": "b73e54a7",
   "metadata": {},
   "outputs": [],
   "source": [
    "reflections_exp = np.array([15.1, 16.7, 20.8, 25.2, 26.3, 28.1, 30.2])/10  # nm^-1 -> Angstrom^-1"
   ]
  },
  {
   "attachments": {},
   "cell_type": "markdown",
   "id": "bc15ebf6",
   "metadata": {},
   "source": [
    "If we assume that the first reflex is a [01] reflex or equivalent, we know that the lattice planes should be approximately 4.161 Å spaced:"
   ]
  },
  {
   "cell_type": "code",
   "execution_count": 3,
   "id": "f56fada8",
   "metadata": {},
   "outputs": [
    {
     "name": "stdout",
     "output_type": "stream",
     "text": [
      "4.161049872304361\n"
     ]
    }
   ],
   "source": [
    "d = 2*np.pi/reflections_exp[0]\n",
    "print(d)"
   ]
  },
  {
   "attachments": {},
   "cell_type": "markdown",
   "id": "758d7357",
   "metadata": {},
   "source": [
    "If we assume for now that the two lattice vectors have the same length and the lattice angle is between 90° and 120°, this means due to geometry the lengths of the lattice vectors should be between 4.161 and 4.805 Å."
   ]
  },
  {
   "attachments": {},
   "cell_type": "markdown",
   "id": "57e251e9",
   "metadata": {},
   "source": [
    "Rough screening with symmetry constraint of |a|=|b|:"
   ]
  },
  {
   "cell_type": "code",
   "execution_count": 4,
   "id": "0bd0ddbf",
   "metadata": {},
   "outputs": [],
   "source": [
    "# unit-cell parameters to screen\n",
    "alist = np.linspace(4, 5, 40)\n",
    "#blist = np.linspace(4, 5, 10)\n",
    "gamma = np.linspace(90, 120, 30)\n",
    "\n",
    "# only one basis atom at 0,0,0\n",
    "fractional_coords = [[0,0,0]]\n",
    "n=0\n",
    "best = []\n",
    "for p in itertools.product(alist, gamma):\n",
    "    a, g = p\n",
    "    atoms_dummy = Atoms('C', scaled_positions=fractional_coords, cell=[a, a, 100, 90, 90, g])  # create dummy ase atoms object\n",
    "\n",
    "    result = get_reflexes(atoms_dummy, dummy=False)\n",
    "    \n",
    "    # check if result is close to experimental reflexes\n",
    "    matches = [np.min(np.abs(reflections_exp - Qxy)) for Qxy in result['Qxy_unique'] if np.min(np.abs(reflections_exp - Qxy)) < 0.02]\n",
    "    # sum up the errors between the reflexes and the reflexions as further criterion for a good match\n",
    "    summatches = [np.abs(r-result['Qxy_unique']) for r in reflections_exp]\n",
    "    summatches = np.sum(np.array(summatches))\n",
    "\n",
    "    best.append([a, a, g, summatches, len(matches)])\n",
    "    "
   ]
  },
  {
   "cell_type": "code",
   "execution_count": 5,
   "id": "3b5f3044",
   "metadata": {},
   "outputs": [
    {
     "name": "stdout",
     "output_type": "stream",
     "text": [
      "[[  4.48717949   4.48717949 112.75862069 508.6003416    5.        ]\n",
      " [  4.51282051   4.51282051 112.75862069 503.96308376   5.        ]]\n",
      "[[  4.51282051   4.51282051 112.75862069 503.96308376   5.        ]]\n"
     ]
    }
   ],
   "source": [
    "best = np.array(best)\n",
    "bestmin = best[np.where(best[:,-1]==np.max(best[:,-1]))]  # checking which of the results has the highest number of matching reflexes\n",
    "bestmin2 = bestmin[np.where(bestmin[:,-2]==np.min(bestmin[:,-2]))]  # of these, which have the lowest sum of errors\n",
    "print(bestmin)\n",
    "print(bestmin2)"
   ]
  },
  {
   "attachments": {},
   "cell_type": "markdown",
   "id": "e7c7c3f1",
   "metadata": {},
   "source": [
    "Finer screening based on results of coarser screening."
   ]
  },
  {
   "cell_type": "code",
   "execution_count": 6,
   "id": "8f7429cd",
   "metadata": {},
   "outputs": [
    {
     "name": "stdout",
     "output_type": "stream",
     "text": [
      "0\n",
      "10000\n",
      "20000\n",
      "30000\n"
     ]
    }
   ],
   "source": [
    "# unit-cell parameters to screen\n",
    "alist = np.linspace(4.4, 4.6, 200)\n",
    "#blist = np.linspace(4.4, 4.6, 20)\n",
    "gamma = np.linspace(112, 113, 200)\n",
    "\n",
    "# only one basis atom at 0,0,0\n",
    "fractional_coords = [[0,0,0]]\n",
    "n=0\n",
    "best = []\n",
    "for p in itertools.product(alist, gamma):\n",
    "    a, g = p\n",
    "    atoms_dummy = Atoms('C', scaled_positions=fractional_coords, cell=[a, a, 100, 90, 90, g])  # create dummy ase atoms object\n",
    "    \n",
    "    if n%10000==0:\n",
    "        print(n)\n",
    "    n += 1\n",
    "\n",
    "    result = get_reflexes(atoms_dummy, dummy=False)\n",
    "    \n",
    "    # check if result is close to experimental reflexes\n",
    "    matches = [np.min(np.abs(reflections_exp - Qxy)) for Qxy in result['Qxy_unique'] if np.min(np.abs(reflections_exp - Qxy)) < 0.01]\n",
    "    # sum up the errors between the reflexes and the reflexions as further criterion for a good match\n",
    "    summatches = [np.abs(r-result['Qxy_unique']) for r in reflections_exp]\n",
    "    summatches = np.sum(np.array(summatches))\n",
    "\n",
    "    best.append([a, a, g, summatches, len(matches)])"
   ]
  },
  {
   "cell_type": "code",
   "execution_count": 7,
   "id": "37840445",
   "metadata": {},
   "outputs": [
    {
     "name": "stdout",
     "output_type": "stream",
     "text": [
      "[[  4.49447236   4.49447236 112.63819095 506.6503825    5.        ]\n",
      " [  4.49447236   4.49447236 112.64321608 506.67615781   5.        ]\n",
      " [  4.49447236   4.49447236 112.64824121 506.70194028   5.        ]\n",
      " ...\n",
      " [  4.52060302   4.52060302 112.86432161 503.1288       5.        ]\n",
      " [  4.52060302   4.52060302 112.86934673 503.15423358   5.        ]\n",
      " [  4.52060302   4.52060302 112.87437186 503.17967415   5.        ]]\n",
      "[[  4.52060302   4.52060302 112.75376884 502.57102451   5.        ]]\n"
     ]
    }
   ],
   "source": [
    "best = np.array(best)\n",
    "bestmin = best[np.where(best[:,-1]==np.max(best[:,-1]))]  # checking which of the results has the highest number of matching reflexes\n",
    "bestmin2 = bestmin[np.where(bestmin[:,-2]==np.min(bestmin[:,-2]))]  # of these, which have the lowest sum of errors\n",
    "print(bestmin)\n",
    "print(bestmin2)"
   ]
  },
  {
   "cell_type": "code",
   "execution_count": 8,
   "id": "cdfbe2a5",
   "metadata": {},
   "outputs": [
    {
     "data": {
      "image/png": "[encoded data removed]",
      "text/plain": [
       "<Figure size 432x288 with 1 Axes>"
      ]
     },
     "metadata": {
      "needs_background": "light"
     },
     "output_type": "display_data"
    }
   ],
   "source": [
    "a = bestmin2[0][0]\n",
    "b = bestmin2[0][1]\n",
    "gamma = bestmin2[0][2]\n",
    "fractional_coords = [[0,0,0]]\n",
    "atoms_dummy = Atoms(['C'], scaled_positions=fractional_coords, cell=[a, b, 100, 90, 90, gamma])\n",
    "\n",
    "result = get_reflexes(atoms_dummy, dummy=False)\n",
    "\n",
    "fig, ax = plot_result_gixd(result, reflections_exp)\n",
    "fig.tight_layout()\n",
    "fig.savefig('SOS/single_site.png', dpi=300)"
   ]
  },
  {
   "attachments": {},
   "cell_type": "markdown",
   "id": "ab4925fc",
   "metadata": {},
   "source": [
    "Best result for a=b=4.52 Å and γ=112.6° for unit cell with one basis particle. However, reflexes are missing compared to experimental result."
   ]
  },
  {
   "attachments": {},
   "cell_type": "markdown",
   "id": "4bbe9a42",
   "metadata": {},
   "source": [
    "This cell is equivalent to a two atom basis with a rectangular unit cell with a=7.529 Å, b=5.007 Å, γ=90°:"
   ]
  },
  {
   "cell_type": "code",
   "execution_count": 9,
   "id": "a70f1e15",
   "metadata": {},
   "outputs": [
    {
     "data": {
      "text/plain": [
       "(<Figure size 432x288 with 1 Axes>,\n",
       " <AxesSubplot:xlabel='Q$_\\\\mathrm{xy}$ ($\\\\mathrm{\\\\AA}^{-1}$)', ylabel='Relative intensity'>)"
      ]
     },
     "execution_count": 9,
     "metadata": {},
     "output_type": "execute_result"
    },
    {
     "data": {
      "image/png": "[encoded data removed]",
      "text/plain": [
       "<Figure size 432x288 with 1 Axes>"
      ]
     },
     "metadata": {
      "needs_background": "light"
     },
     "output_type": "display_data"
    }
   ],
   "source": [
    "a = 7.529\n",
    "b = 5.007\n",
    "gamma = 90\n",
    "fractional_coords = [[0,0,0 ], [0.5, 0.5, 0]]\n",
    "\n",
    "\n",
    "atoms_dummy = Atoms(['C', 'C'], scaled_positions=fractional_coords, cell=[a, b, 100, 90, 90, gamma])\n",
    "\n",
    "result = get_reflexes(atoms_dummy)\n",
    "\n",
    "plot_result_gixd(result, reflections_exp)"
   ]
  },
  {
   "attachments": {},
   "cell_type": "markdown",
   "id": "d072719e",
   "metadata": {},
   "source": [
    "The missing reflexes can be obtained by making the two sites distinguishable, for example by using two different basis atoms (for example C and S). This means the actual unit cell has two distinguishable sites."
   ]
  },
  {
   "cell_type": "code",
   "execution_count": 10,
   "id": "bed5170d",
   "metadata": {},
   "outputs": [
    {
     "data": {
      "image/png": "[encoded data removed]",
      "text/plain": [
       "<Figure size 432x288 with 1 Axes>"
      ]
     },
     "metadata": {
      "needs_background": "light"
     },
     "output_type": "display_data"
    }
   ],
   "source": [
    "a = 7.529\n",
    "b = 5.007\n",
    "gamma = 90\n",
    "fractional_coords = [[0,0,0 ], [0.5, 0.5, 0]]\n",
    "\n",
    "\n",
    "atoms_dummy = Atoms(['C', 'S'], scaled_positions=fractional_coords, cell=[a, b, 100, 90, 90, gamma])\n",
    "\n",
    "result = get_reflexes(atoms_dummy)\n",
    "\n",
    "fig, ax = plot_result_gixd(result, reflections_exp)\n",
    "fig.tight_layout()\n",
    "fig.savefig('SOS/two_sites.png', dpi=300)"
   ]
  },
  {
   "attachments": {},
   "cell_type": "markdown",
   "id": "973646d7",
   "metadata": {},
   "source": [
    "Distinguishable sites for the packing of SOS are the case for a herringbone-packing."
   ]
  },
  {
   "cell_type": "code",
   "execution_count": 11,
   "id": "4459ca1d",
   "metadata": {},
   "outputs": [],
   "source": [
    "def get_herringbone(a, b, c, theta, sos):\n",
    "    sos2 = sos.copy()\n",
    "    sos2.rotate(theta, 'z', sos2.get_center_of_mass())\n",
    "    sos2_pos = sos2.get_positions()\n",
    "    sos2_pos[:,0] += a/2\n",
    "    sos2_pos[:,1] += b/2\n",
    "    names_merged = np.append(sos.get_chemical_symbols(), sos2.get_chemical_symbols())\n",
    "    pos_merged = np.append(sos.get_positions(), sos2_pos, 0)\n",
    "    merged = Atoms(names_merged, positions=pos_merged, cell=[a, b, c, 90, 90, 90], pbc=True)\n",
    "    \n",
    "    return merged\n",
    "\n",
    "sos = read('SOS/HSOS.xyz')  # reading structure of HSOS\n",
    "\n",
    "a = 7.529\n",
    "b = 5.007\n",
    "\n",
    "s = get_herringbone(a, b, 1000, 90, sos)  # generating HB packing of HSOS\n",
    "s.write('SOS/HSOS_HB_from_GIXD.cif')\n"
   ]
  },
  {
   "cell_type": "code",
   "execution_count": 12,
   "id": "b2ddddcf",
   "metadata": {},
   "outputs": [
    {
     "data": {
      "image/png": "[encoded data removed]",
      "text/plain": [
       "<Figure size 432x288 with 1 Axes>"
      ]
     },
     "metadata": {
      "needs_background": "light"
     },
     "output_type": "display_data"
    }
   ],
   "source": [
    "sos_hb = read('/home/dbodesheim/zih_home_drive/PhD/SMAIS/GIXD/HSOS_HB_from_GIXD.cif')\n",
    "del sos_hb[[atom.index for atom in sos_hb if atom.symbol=='H']]  # deleting H-atoms\n",
    "result = get_reflexes(sos_hb)\n",
    "\n",
    "fig, ax = plot_result_gixd(result, reflections_exp)\n",
    "fig.tight_layout()\n",
    "fig.savefig('SOS/SOS_HB.png', dpi=300)"
   ]
  },
  {
   "cell_type": "code",
   "execution_count": 13,
   "id": "24849aaa",
   "metadata": {},
   "outputs": [],
   "source": [
    "# exporting results\n",
    "export_results_csv(result, filename='SOS/results_full.csv', full=True)\n",
    "export_results_csv(result, filename='SOS/results.csv', full=False)"
   ]
  },
  {
   "cell_type": "code",
   "execution_count": null,
   "id": "992c0cf7",
   "metadata": {},
   "outputs": [],
   "source": []
  }
 ],
 "metadata": {
  "kernelspec": {
   "display_name": "base",
   "language": "python",
   "name": "python3"
  },
  "language_info": {
   "codemirror_mode": {
    "name": "ipython",
    "version": 3
   },
   "file_extension": ".py",
   "mimetype": "text/x-python",
   "name": "python",
   "nbconvert_exporter": "python",
   "pygments_lexer": "ipython3",
   "version": "3.8.5"
  },
  "vscode": {
   "interpreter": {
    "hash": "f73dddfd4a60ef34f659ef713707f286d0fb6cc1ea54e0d810b2463eb16cf75e"
   }
  }
 },
 "nbformat": 4,
 "nbformat_minor": 5
}
